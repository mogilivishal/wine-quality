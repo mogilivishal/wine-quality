{
 "cells": [
  {
   "cell_type": "code",
   "execution_count": 1,
   "metadata": {},
   "outputs": [
    {
     "data": {
      "text/plain": [
       "'E:\\\\SIP Hackathon'"
      ]
     },
     "execution_count": 1,
     "metadata": {},
     "output_type": "execute_result"
    }
   ],
   "source": [
    "import pandas as pd\n",
    "import numpy as np\n",
    "import os\n",
    "os.getcwd()"
   ]
  },
  {
   "cell_type": "code",
   "execution_count": 2,
   "metadata": {},
   "outputs": [],
   "source": [
    "df = pd.read_csv(r\"E:\\SIP Hackathon\\winequality-white.csv\")"
   ]
  },
  {
   "cell_type": "code",
   "execution_count": 3,
   "metadata": {},
   "outputs": [
    {
     "data": {
      "text/html": [
       "<div>\n",
       "<style scoped>\n",
       "    .dataframe tbody tr th:only-of-type {\n",
       "        vertical-align: middle;\n",
       "    }\n",
       "\n",
       "    .dataframe tbody tr th {\n",
       "        vertical-align: top;\n",
       "    }\n",
       "\n",
       "    .dataframe thead th {\n",
       "        text-align: right;\n",
       "    }\n",
       "</style>\n",
       "<table border=\"1\" class=\"dataframe\">\n",
       "  <thead>\n",
       "    <tr style=\"text-align: right;\">\n",
       "      <th></th>\n",
       "      <th>fixed acidity;\"volatile acidity\";\"citric acid\";\"residual sugar\";\"chlorides\";\"free sulfur dioxide\";\"total sulfur dioxide\";\"density\";\"pH\";\"sulphates\";\"alcohol\";\"quality\"</th>\n",
       "    </tr>\n",
       "  </thead>\n",
       "  <tbody>\n",
       "    <tr>\n",
       "      <th>0</th>\n",
       "      <td>7;0.27;0.36;20.7;0.045;45;170;1.001;3;0.45;8.8;6</td>\n",
       "    </tr>\n",
       "    <tr>\n",
       "      <th>1</th>\n",
       "      <td>6.3;0.3;0.34;1.6;0.049;14;132;0.994;3.3;0.49;9...</td>\n",
       "    </tr>\n",
       "    <tr>\n",
       "      <th>2</th>\n",
       "      <td>8.1;0.28;0.4;6.9;0.05;30;97;0.9951;3.26;0.44;1...</td>\n",
       "    </tr>\n",
       "    <tr>\n",
       "      <th>3</th>\n",
       "      <td>7.2;0.23;0.32;8.5;0.058;47;186;0.9956;3.19;0.4...</td>\n",
       "    </tr>\n",
       "    <tr>\n",
       "      <th>4</th>\n",
       "      <td>7.2;0.23;0.32;8.5;0.058;47;186;0.9956;3.19;0.4...</td>\n",
       "    </tr>\n",
       "  </tbody>\n",
       "</table>\n",
       "</div>"
      ],
      "text/plain": [
       "  fixed acidity;\"volatile acidity\";\"citric acid\";\"residual sugar\";\"chlorides\";\"free sulfur dioxide\";\"total sulfur dioxide\";\"density\";\"pH\";\"sulphates\";\"alcohol\";\"quality\"\n",
       "0   7;0.27;0.36;20.7;0.045;45;170;1.001;3;0.45;8.8;6                                                                                                                     \n",
       "1  6.3;0.3;0.34;1.6;0.049;14;132;0.994;3.3;0.49;9...                                                                                                                     \n",
       "2  8.1;0.28;0.4;6.9;0.05;30;97;0.9951;3.26;0.44;1...                                                                                                                     \n",
       "3  7.2;0.23;0.32;8.5;0.058;47;186;0.9956;3.19;0.4...                                                                                                                     \n",
       "4  7.2;0.23;0.32;8.5;0.058;47;186;0.9956;3.19;0.4...                                                                                                                     "
      ]
     },
     "execution_count": 3,
     "metadata": {},
     "output_type": "execute_result"
    }
   ],
   "source": [
    "df.head()"
   ]
  },
  {
   "cell_type": "code",
   "execution_count": 4,
   "metadata": {},
   "outputs": [],
   "source": [
    "from __future__ import division"
   ]
  },
  {
   "cell_type": "code",
   "execution_count": 5,
   "metadata": {},
   "outputs": [],
   "source": [
    "\n",
    "def loadDataset(data_path):\n",
    "    return pd.read_csv(data_path, delimiter = ';', encoding='utf-8')"
   ]
  },
  {
   "cell_type": "code",
   "execution_count": 6,
   "metadata": {},
   "outputs": [
    {
     "data": {
      "text/plain": [
       "(4898, 12)"
      ]
     },
     "execution_count": 6,
     "metadata": {},
     "output_type": "execute_result"
    }
   ],
   "source": [
    "df = loadDataset(\"E:\\SIP Hackathon\\winequality-white.csv\")\n",
    "df.shape\n"
   ]
  },
  {
   "cell_type": "code",
   "execution_count": 7,
   "metadata": {},
   "outputs": [],
   "source": [
    "x = df.iloc[:,0:11].values"
   ]
  },
  {
   "cell_type": "code",
   "execution_count": 8,
   "metadata": {},
   "outputs": [],
   "source": [
    "y=df.iloc[:,11].values\n",
    "\n"
   ]
  },
  {
   "cell_type": "code",
   "execution_count": 9,
   "metadata": {},
   "outputs": [
    {
     "data": {
      "text/plain": [
       "array([[ 7.  ,  0.27,  0.36, ...,  3.  ,  0.45,  8.8 ],\n",
       "       [ 6.3 ,  0.3 ,  0.34, ...,  3.3 ,  0.49,  9.5 ],\n",
       "       [ 8.1 ,  0.28,  0.4 , ...,  3.26,  0.44, 10.1 ],\n",
       "       ...,\n",
       "       [ 6.5 ,  0.24,  0.19, ...,  2.99,  0.46,  9.4 ],\n",
       "       [ 5.5 ,  0.29,  0.3 , ...,  3.34,  0.38, 12.8 ],\n",
       "       [ 6.  ,  0.21,  0.38, ...,  3.26,  0.32, 11.8 ]])"
      ]
     },
     "execution_count": 9,
     "metadata": {},
     "output_type": "execute_result"
    }
   ],
   "source": [
    "x"
   ]
  },
  {
   "cell_type": "code",
   "execution_count": 10,
   "metadata": {},
   "outputs": [
    {
     "data": {
      "text/plain": [
       "array([6, 6, 6, ..., 6, 7, 6], dtype=int64)"
      ]
     },
     "execution_count": 10,
     "metadata": {},
     "output_type": "execute_result"
    }
   ],
   "source": [
    "y\n",
    "\n",
    "\n",
    "\n",
    "\n"
   ]
  },
  {
   "cell_type": "code",
   "execution_count": 11,
   "metadata": {},
   "outputs": [],
   "source": [
    "from sklearn.model_selection import train_test_split\n",
    "x_train, x_test, y_train, y_test = train_test_split(x,y,test_size = 0.2,random_state=0)"
   ]
  },
  {
   "cell_type": "code",
   "execution_count": 12,
   "metadata": {},
   "outputs": [],
   "source": [
    "from sklearn.preprocessing import StandardScaler  \n",
    "sc=StandardScaler()\n",
    "x_train = sc.fit_transform(x_train)  ## finding out the best value and transforming\n",
    "x_test = sc.transform(x_test) "
   ]
  },
  {
   "cell_type": "code",
   "execution_count": 13,
   "metadata": {},
   "outputs": [
    {
     "name": "stderr",
     "output_type": "stream",
     "text": [
      "Using TensorFlow backend.\n"
     ]
    }
   ],
   "source": [
    "from keras.utils import to_categorical\n",
    "y_train = to_categorical(y_train)"
   ]
  },
  {
   "cell_type": "code",
   "execution_count": 14,
   "metadata": {},
   "outputs": [],
   "source": [
    "import keras\n",
    "from keras.models import Sequential\n",
    "from keras.layers import Dense"
   ]
  },
  {
   "cell_type": "code",
   "execution_count": null,
   "metadata": {},
   "outputs": [],
   "source": []
  },
  {
   "cell_type": "code",
   "execution_count": 15,
   "metadata": {},
   "outputs": [
    {
     "name": "stdout",
     "output_type": "stream",
     "text": [
      "WARNING:tensorflow:From C:\\ProgramData\\Anaconda3\\lib\\site-packages\\tensorflow\\python\\framework\\op_def_library.py:263: colocate_with (from tensorflow.python.framework.ops) is deprecated and will be removed in a future version.\n",
      "Instructions for updating:\n",
      "Colocations handled automatically by placer.\n"
     ]
    }
   ],
   "source": [
    "\n",
    "model=Sequential()\n",
    "model.add(Dense(10,input_dim=11))\n",
    "model.add(Dense(100,activation = 'relu'))\n",
    "model.add(Dense(100,activation = 'relu'))\n",
    "model.add(Dense(100,activation = 'relu'))\n",
    "model.add(Dense(10,activation = 'softmax'))\n",
    "model.compile(loss='categorical_crossentropy',optimizer='adam',metrics=['accuracy']) \n",
    "       # for regression no need of activation function\n"
   ]
  },
  {
   "cell_type": "code",
   "execution_count": 16,
   "metadata": {},
   "outputs": [
    {
     "name": "stdout",
     "output_type": "stream",
     "text": [
      "WARNING:tensorflow:From C:\\ProgramData\\Anaconda3\\lib\\site-packages\\tensorflow\\python\\ops\\math_ops.py:3066: to_int32 (from tensorflow.python.ops.math_ops) is deprecated and will be removed in a future version.\n",
      "Instructions for updating:\n",
      "Use tf.cast instead.\n",
      "Epoch 1/100\n",
      "3918/3918 [==============================] - 1s 335us/step - loss: 1.3009 - acc: 0.5013\n",
      "Epoch 2/100\n",
      "3918/3918 [==============================] - 0s 109us/step - loss: 1.0856 - acc: 0.5510\n",
      "Epoch 3/100\n",
      "3918/3918 [==============================] - 0s 104us/step - loss: 1.0509 - acc: 0.5607\n",
      "Epoch 4/100\n",
      "3918/3918 [==============================] - 0s 80us/step - loss: 1.0375 - acc: 0.5536\n",
      "Epoch 5/100\n",
      "3918/3918 [==============================] - 0s 99us/step - loss: 1.0105 - acc: 0.5664\n",
      "Epoch 6/100\n",
      "3918/3918 [==============================] - 0s 83us/step - loss: 0.9957 - acc: 0.5784\n",
      "Epoch 7/100\n",
      "3918/3918 [==============================] - 0s 87us/step - loss: 0.9817 - acc: 0.5827\n",
      "Epoch 8/100\n",
      "3918/3918 [==============================] - 0s 94us/step - loss: 0.9676 - acc: 0.5883\n",
      "Epoch 9/100\n",
      "3918/3918 [==============================] - 0s 81us/step - loss: 0.9538 - acc: 0.5794\n",
      "Epoch 10/100\n",
      "3918/3918 [==============================] - 0s 91us/step - loss: 0.9423 - acc: 0.5965\n",
      "Epoch 11/100\n",
      "3918/3918 [==============================] - 0s 111us/step - loss: 0.9313 - acc: 0.5993\n",
      "Epoch 12/100\n",
      "3918/3918 [==============================] - 0s 80us/step - loss: 0.9210 - acc: 0.6062\n",
      "Epoch 13/100\n",
      "3918/3918 [==============================] - 0s 88us/step - loss: 0.9054 - acc: 0.6113\n",
      "Epoch 14/100\n",
      "3918/3918 [==============================] - 0s 90us/step - loss: 0.8944 - acc: 0.6143\n",
      "Epoch 15/100\n",
      "3918/3918 [==============================] - 0s 77us/step - loss: 0.8799 - acc: 0.6207\n",
      "Epoch 16/100\n",
      "3918/3918 [==============================] - 0s 79us/step - loss: 0.8675 - acc: 0.6304\n",
      "Epoch 17/100\n",
      "3918/3918 [==============================] - 0s 87us/step - loss: 0.8531 - acc: 0.6332\n",
      "Epoch 18/100\n",
      "3918/3918 [==============================] - 0s 119us/step - loss: 0.8502 - acc: 0.6368\n",
      "Epoch 19/100\n",
      "3918/3918 [==============================] - 0s 117us/step - loss: 0.8282 - acc: 0.6414\n",
      "Epoch 20/100\n",
      "3918/3918 [==============================] - 0s 103us/step - loss: 0.8169 - acc: 0.6493\n",
      "Epoch 21/100\n",
      "3918/3918 [==============================] - 0s 106us/step - loss: 0.8002 - acc: 0.6611\n",
      "Epoch 22/100\n",
      "3918/3918 [==============================] - 0s 84us/step - loss: 0.7843 - acc: 0.6639\n",
      "Epoch 23/100\n",
      "3918/3918 [==============================] - 0s 107us/step - loss: 0.7791 - acc: 0.6690\n",
      "Epoch 24/100\n",
      "3918/3918 [==============================] - 0s 77us/step - loss: 0.7551 - acc: 0.6856\n",
      "Epoch 25/100\n",
      "3918/3918 [==============================] - 0s 78us/step - loss: 0.7525 - acc: 0.6866\n",
      "Epoch 26/100\n",
      "3918/3918 [==============================] - 0s 85us/step - loss: 0.7353 - acc: 0.6856\n",
      "Epoch 27/100\n",
      "3918/3918 [==============================] - 0s 87us/step - loss: 0.7156 - acc: 0.7034\n",
      "Epoch 28/100\n",
      "3918/3918 [==============================] - 0s 85us/step - loss: 0.7101 - acc: 0.6960\n",
      "Epoch 29/100\n",
      "3918/3918 [==============================] - 0s 80us/step - loss: 0.6872 - acc: 0.7136: 0s - loss: 0.6698 - acc: 0.7\n",
      "Epoch 30/100\n",
      "3918/3918 [==============================] - 0s 87us/step - loss: 0.6807 - acc: 0.7254\n",
      "Epoch 31/100\n",
      "3918/3918 [==============================] - 0s 76us/step - loss: 0.6612 - acc: 0.7289\n",
      "Epoch 32/100\n",
      "3918/3918 [==============================] - 0s 87us/step - loss: 0.6612 - acc: 0.7236\n",
      "Epoch 33/100\n",
      "3918/3918 [==============================] - 0s 76us/step - loss: 0.6346 - acc: 0.7333\n",
      "Epoch 34/100\n",
      "3918/3918 [==============================] - 0s 85us/step - loss: 0.6203 - acc: 0.7453\n",
      "Epoch 35/100\n",
      "3918/3918 [==============================] - 0s 98us/step - loss: 0.6205 - acc: 0.7471\n",
      "Epoch 36/100\n",
      "3918/3918 [==============================] - 0s 98us/step - loss: 0.6077 - acc: 0.7491\n",
      "Epoch 37/100\n",
      "3918/3918 [==============================] - 0s 82us/step - loss: 0.5839 - acc: 0.7690\n",
      "Epoch 38/100\n",
      "3918/3918 [==============================] - 0s 72us/step - loss: 0.5796 - acc: 0.7637\n",
      "Epoch 39/100\n",
      "3918/3918 [==============================] - 0s 90us/step - loss: 0.5667 - acc: 0.7693\n",
      "Epoch 40/100\n",
      "3918/3918 [==============================] - 0s 113us/step - loss: 0.5437 - acc: 0.7838\n",
      "Epoch 41/100\n",
      "3918/3918 [==============================] - 0s 85us/step - loss: 0.5413 - acc: 0.7764\n",
      "Epoch 42/100\n",
      "3918/3918 [==============================] - 0s 88us/step - loss: 0.5278 - acc: 0.7905\n",
      "Epoch 43/100\n",
      "3918/3918 [==============================] - 0s 107us/step - loss: 0.5208 - acc: 0.7922\n",
      "Epoch 44/100\n",
      "3918/3918 [==============================] - 0s 102us/step - loss: 0.5064 - acc: 0.7991\n",
      "Epoch 45/100\n",
      "3918/3918 [==============================] - 0s 101us/step - loss: 0.4941 - acc: 0.8002\n",
      "Epoch 46/100\n",
      "3918/3918 [==============================] - 0s 107us/step - loss: 0.4872 - acc: 0.8076\n",
      "Epoch 47/100\n",
      "3918/3918 [==============================] - 0s 100us/step - loss: 0.4744 - acc: 0.8147\n",
      "Epoch 48/100\n",
      "3918/3918 [==============================] - 0s 106us/step - loss: 0.4615 - acc: 0.8208\n",
      "Epoch 49/100\n",
      "3918/3918 [==============================] - 0s 102us/step - loss: 0.4462 - acc: 0.8201\n",
      "Epoch 50/100\n",
      "3918/3918 [==============================] - 0s 101us/step - loss: 0.4420 - acc: 0.8328\n",
      "Epoch 51/100\n",
      "3918/3918 [==============================] - 0s 107us/step - loss: 0.4204 - acc: 0.8369\n",
      "Epoch 52/100\n",
      "3918/3918 [==============================] - 0s 103us/step - loss: 0.4103 - acc: 0.8446\n",
      "Epoch 53/100\n",
      "3918/3918 [==============================] - 0s 98us/step - loss: 0.4025 - acc: 0.8428\n",
      "Epoch 54/100\n",
      "3918/3918 [==============================] - 0s 99us/step - loss: 0.3965 - acc: 0.8481\n",
      "Epoch 55/100\n",
      "3918/3918 [==============================] - 0s 80us/step - loss: 0.3978 - acc: 0.8456\n",
      "Epoch 56/100\n",
      "3918/3918 [==============================] - 0s 82us/step - loss: 0.3816 - acc: 0.8479\n",
      "Epoch 57/100\n",
      "3918/3918 [==============================] - 0s 106us/step - loss: 0.3591 - acc: 0.8652 0s - loss: 0.3436 - acc: \n",
      "Epoch 58/100\n",
      "3918/3918 [==============================] - 0s 97us/step - loss: 0.3608 - acc: 0.8591\n",
      "Epoch 59/100\n",
      "3918/3918 [==============================] - 0s 94us/step - loss: 0.3535 - acc: 0.8632\n",
      "Epoch 60/100\n",
      "3918/3918 [==============================] - 0s 101us/step - loss: 0.3418 - acc: 0.8724\n",
      "Epoch 61/100\n",
      "3918/3918 [==============================] - 0s 75us/step - loss: 0.3134 - acc: 0.8828\n",
      "Epoch 62/100\n",
      "3918/3918 [==============================] - 0s 94us/step - loss: 0.3251 - acc: 0.8754\n",
      "Epoch 63/100\n",
      "3918/3918 [==============================] - 0s 91us/step - loss: 0.3243 - acc: 0.8721\n",
      "Epoch 64/100\n",
      "3918/3918 [==============================] - 0s 91us/step - loss: 0.3036 - acc: 0.8880\n",
      "Epoch 65/100\n",
      "3918/3918 [==============================] - 0s 96us/step - loss: 0.3055 - acc: 0.8839\n",
      "Epoch 66/100\n",
      "3918/3918 [==============================] - 0s 86us/step - loss: 0.2972 - acc: 0.8851\n",
      "Epoch 67/100\n",
      "3918/3918 [==============================] - 0s 89us/step - loss: 0.2917 - acc: 0.8923\n",
      "Epoch 68/100\n",
      "3918/3918 [==============================] - 0s 78us/step - loss: 0.2774 - acc: 0.8961\n",
      "Epoch 69/100\n",
      "3918/3918 [==============================] - 0s 77us/step - loss: 0.2798 - acc: 0.8946\n",
      "Epoch 70/100\n",
      "3918/3918 [==============================] - 0s 89us/step - loss: 0.2881 - acc: 0.8887\n",
      "Epoch 71/100\n",
      "3918/3918 [==============================] - 0s 92us/step - loss: 0.2616 - acc: 0.9020\n",
      "Epoch 72/100\n",
      "3918/3918 [==============================] - 0s 76us/step - loss: 0.2470 - acc: 0.9086\n",
      "Epoch 73/100\n",
      "3918/3918 [==============================] - 0s 77us/step - loss: 0.2347 - acc: 0.9165\n",
      "Epoch 74/100\n",
      "3918/3918 [==============================] - 0s 87us/step - loss: 0.2302 - acc: 0.9193\n",
      "Epoch 75/100\n",
      "3918/3918 [==============================] - 0s 84us/step - loss: 0.2347 - acc: 0.9168\n",
      "Epoch 76/100\n",
      "3918/3918 [==============================] - 0s 92us/step - loss: 0.2432 - acc: 0.9084\n",
      "Epoch 77/100\n",
      "3918/3918 [==============================] - 0s 103us/step - loss: 0.2116 - acc: 0.9252\n",
      "Epoch 78/100\n",
      "3918/3918 [==============================] - 0s 91us/step - loss: 0.2213 - acc: 0.9186\n",
      "Epoch 79/100\n"
     ]
    },
    {
     "name": "stdout",
     "output_type": "stream",
     "text": [
      "3918/3918 [==============================] - 0s 93us/step - loss: 0.2244 - acc: 0.9245\n",
      "Epoch 80/100\n",
      "3918/3918 [==============================] - 0s 101us/step - loss: 0.2242 - acc: 0.9140\n",
      "Epoch 81/100\n",
      "3918/3918 [==============================] - 0s 92us/step - loss: 0.2112 - acc: 0.9234\n",
      "Epoch 82/100\n",
      "3918/3918 [==============================] - 0s 104us/step - loss: 0.1902 - acc: 0.9339\n",
      "Epoch 83/100\n",
      "3918/3918 [==============================] - 0s 112us/step - loss: 0.1969 - acc: 0.9319\n",
      "Epoch 84/100\n",
      "3918/3918 [==============================] - 0s 101us/step - loss: 0.2004 - acc: 0.9290\n",
      "Epoch 85/100\n",
      "3918/3918 [==============================] - 0s 103us/step - loss: 0.1804 - acc: 0.9390\n",
      "Epoch 86/100\n",
      "3918/3918 [==============================] - 0s 106us/step - loss: 0.2034 - acc: 0.9265\n",
      "Epoch 87/100\n",
      "3918/3918 [==============================] - 0s 104us/step - loss: 0.1801 - acc: 0.9382\n",
      "Epoch 88/100\n",
      "3918/3918 [==============================] - 0s 111us/step - loss: 0.1672 - acc: 0.9393\n",
      "Epoch 89/100\n",
      "3918/3918 [==============================] - 0s 103us/step - loss: 0.1748 - acc: 0.9380\n",
      "Epoch 90/100\n",
      "3918/3918 [==============================] - 0s 119us/step - loss: 0.1674 - acc: 0.9403\n",
      "Epoch 91/100\n",
      "3918/3918 [==============================] - 0s 107us/step - loss: 0.1603 - acc: 0.9446\n",
      "Epoch 92/100\n",
      "3918/3918 [==============================] - 0s 104us/step - loss: 0.1416 - acc: 0.9571\n",
      "Epoch 93/100\n",
      "3918/3918 [==============================] - 0s 100us/step - loss: 0.1653 - acc: 0.9413\n",
      "Epoch 94/100\n",
      "3918/3918 [==============================] - 0s 90us/step - loss: 0.1800 - acc: 0.9362\n",
      "Epoch 95/100\n",
      "3918/3918 [==============================] - 0s 87us/step - loss: 0.1566 - acc: 0.9492\n",
      "Epoch 96/100\n",
      "3918/3918 [==============================] - 0s 86us/step - loss: 0.1338 - acc: 0.9604\n",
      "Epoch 97/100\n",
      "3918/3918 [==============================] - 0s 89us/step - loss: 0.1266 - acc: 0.9597\n",
      "Epoch 98/100\n",
      "3918/3918 [==============================] - 0s 76us/step - loss: 0.1262 - acc: 0.9604\n",
      "Epoch 99/100\n",
      "3918/3918 [==============================] - 0s 78us/step - loss: 0.1262 - acc: 0.9627\n",
      "Epoch 100/100\n",
      "3918/3918 [==============================] - 0s 76us/step - loss: 0.1229 - acc: 0.9599\n"
     ]
    },
    {
     "data": {
      "text/plain": [
       "<keras.callbacks.History at 0x1ab8499da58>"
      ]
     },
     "execution_count": 16,
     "metadata": {},
     "output_type": "execute_result"
    }
   ],
   "source": [
    "model.fit(x_train,y_train,epochs=100,batch_size=32)"
   ]
  },
  {
   "cell_type": "code",
   "execution_count": 17,
   "metadata": {},
   "outputs": [
    {
     "data": {
      "text/plain": [
       "array([[0., 0., 0., ..., 0., 0., 0.],\n",
       "       [0., 0., 0., ..., 0., 0., 0.],\n",
       "       [0., 0., 0., ..., 1., 0., 0.],\n",
       "       ...,\n",
       "       [0., 0., 0., ..., 0., 0., 0.],\n",
       "       [0., 0., 0., ..., 0., 0., 0.],\n",
       "       [0., 0., 0., ..., 0., 0., 0.]], dtype=float32)"
      ]
     },
     "execution_count": 17,
     "metadata": {},
     "output_type": "execute_result"
    }
   ],
   "source": [
    "y_train"
   ]
  },
  {
   "cell_type": "code",
   "execution_count": 18,
   "metadata": {},
   "outputs": [],
   "source": [
    "y_pred = model.predict(x_train[0:1])"
   ]
  },
  {
   "cell_type": "code",
   "execution_count": 19,
   "metadata": {},
   "outputs": [],
   "source": [
    "y_pred = model.predict_classes(x_train[0:1])"
   ]
  },
  {
   "cell_type": "code",
   "execution_count": 20,
   "metadata": {},
   "outputs": [
    {
     "data": {
      "text/plain": [
       "array([5], dtype=int64)"
      ]
     },
     "execution_count": 20,
     "metadata": {},
     "output_type": "execute_result"
    }
   ],
   "source": [
    "y_pred"
   ]
  },
  {
   "cell_type": "code",
   "execution_count": 21,
   "metadata": {},
   "outputs": [
    {
     "data": {
      "text/plain": [
       "array([[ 0.41960224, -0.18345438, -0.10617414,  0.80769346,  0.73339424,\n",
       "        -0.73160893, -0.57903849,  0.88522816,  0.27871789, -0.0037976 ,\n",
       "        -0.01506672]])"
      ]
     },
     "execution_count": 21,
     "metadata": {},
     "output_type": "execute_result"
    }
   ],
   "source": [
    "x_train[0:1]"
   ]
  },
  {
   "cell_type": "code",
   "execution_count": 22,
   "metadata": {},
   "outputs": [
    {
     "data": {
      "text/plain": [
       "6    2198\n",
       "5    1457\n",
       "7     880\n",
       "8     175\n",
       "4     163\n",
       "3      20\n",
       "9       5\n",
       "Name: quality, dtype: int64"
      ]
     },
     "execution_count": 22,
     "metadata": {},
     "output_type": "execute_result"
    }
   ],
   "source": [
    "df.quality.value_counts()"
   ]
  },
  {
   "cell_type": "code",
   "execution_count": 23,
   "metadata": {},
   "outputs": [],
   "source": [
    "test = [[6.2,0.35,0.03,1.2,0.064,29,120,0.9934,3.22,0.54,9.1]]"
   ]
  },
  {
   "cell_type": "code",
   "execution_count": 24,
   "metadata": {},
   "outputs": [
    {
     "data": {
      "text/plain": [
       "array([[6.200e+00, 3.500e-01, 3.000e-02, 1.200e+00, 6.400e-02, 2.900e+01,\n",
       "        1.200e+02, 9.934e-01, 3.220e+00, 5.400e-01, 9.100e+00]])"
      ]
     },
     "execution_count": 24,
     "metadata": {},
     "output_type": "execute_result"
    }
   ],
   "source": [
    "test1 = np.array(test)\n",
    "test1"
   ]
  },
  {
   "cell_type": "code",
   "execution_count": 25,
   "metadata": {},
   "outputs": [],
   "source": [
    "y_pred = model.predict(test1)"
   ]
  },
  {
   "cell_type": "code",
   "execution_count": 26,
   "metadata": {},
   "outputs": [
    {
     "data": {
      "text/plain": [
       "array([[0.0000000e+00, 0.0000000e+00, 0.0000000e+00, 1.2297145e-10,\n",
       "        0.0000000e+00, 1.0000000e+00, 0.0000000e+00, 0.0000000e+00,\n",
       "        0.0000000e+00, 0.0000000e+00]], dtype=float32)"
      ]
     },
     "execution_count": 26,
     "metadata": {},
     "output_type": "execute_result"
    }
   ],
   "source": [
    "y_pred"
   ]
  },
  {
   "cell_type": "code",
   "execution_count": null,
   "metadata": {},
   "outputs": [],
   "source": []
  }
 ],
 "metadata": {
  "kernelspec": {
   "display_name": "Python 3",
   "language": "python",
   "name": "python3"
  },
  "language_info": {
   "codemirror_mode": {
    "name": "ipython",
    "version": 3
   },
   "file_extension": ".py",
   "mimetype": "text/x-python",
   "name": "python",
   "nbconvert_exporter": "python",
   "pygments_lexer": "ipython3",
   "version": "3.7.3"
  }
 },
 "nbformat": 4,
 "nbformat_minor": 2
}
